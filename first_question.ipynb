{
 "cells": [
  {
   "cell_type": "markdown",
   "metadata": {},
   "source": [
    "## Best practices for collaborative code development\n",
    "\n",
    "We are in the process of setting up a repository for our platform for chemistry\n",
    "simulations for drug design and discovery.\n",
    "\n",
    "The platform will be initially for internal use, but we plan to release at least\n",
    "parts of it as open source. Many of the current developers are scientists\n",
    "without a strong development background. The workflow should be lean but take\n",
    "into account a lot of code review to remove spaghetti code, add tests,\n",
    "documentation _etc._\n",
    "\n",
    "Knowing all this, how would you proceed with designing the development and\n",
    "maintenance workflow, including:\n",
    "\n",
    "* git workflow\n",
    "* versioning scheme\n",
    "* release cycle\n",
    "* Tests/linting/formatting (and CI in general)\n",
    "* pull request policies, review _etc._"
   ]
  },
  {
   "cell_type": "markdown",
   "metadata": {},
   "source": [
    "## <span style='color:blue'>  Answer </span>\n",
    "\n",
    "**git workflow**\n",
    "* To do practice over this part I've made this repository https://github.com/mehrankhosrojerdi/Quantum_Drug_discovery.git. \n",
    "* In the first stage I've tried to make four branches to deal with each questions and then push them and after that I've merged them with the main branch and finally to have a clean repository I will delete then.\n",
    "\n",
    "**versioning scheme**\n",
    "* In this part we mainly use github tag for release tracking\n",
    "* For this part I've started to make tgas and push them to the github for released and beta version\n",
    "\n",
    "**release cycle**\n",
    "* This cycle consist of doing some update over code in rder to fix bugs or add a new feature\n",
    "* it consist of first stage, pre-released, stable release, patch release and final version\n",
    "\n",
    "**Tests/linting/formatting (and CI in general)**\n",
    "* Using continuous integration (CI) we are trying detect issues early and ensure that the new code integrates well.\n",
    "* Using CI we want to ensure that the new change doesn’t break the code and it works correctly with the rest of the project.\n",
    "* For specific project we should make a workflow directory in local repository and make a .yml file. While we have an opportunity to use the template that are ready to use in github/action for python files.\n",
    "* Using .yml file we have this opportunity to either test each units of the code or testing the entire of the result.\n",
    "\n",
    "**pull request policies, review _etc._**\n",
    "* In pull request we clearly describe changes \n",
    "* In PR team members ensure that the code looks good\n",
    "* Main code remain clean"
   ]
  }
 ],
 "metadata": {
  "language_info": {
   "name": "python"
  }
 },
 "nbformat": 4,
 "nbformat_minor": 2
}
