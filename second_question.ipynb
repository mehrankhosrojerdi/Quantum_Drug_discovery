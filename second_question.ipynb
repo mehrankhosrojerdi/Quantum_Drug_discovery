{
 "cells": [
  {
   "cell_type": "markdown",
   "metadata": {},
   "source": [
    "## Design and implementation of an `Ansatz` class\n",
    "\n",
    "The state of a quantum system is represented as a circuit on a quantum computer.\n",
    "For a system with $N$ qubits, the circuit will consist of a certain number of\n",
    "_gates_ arranged in $M$ _layers_.\n",
    "\n",
    "<img src=\"https://user-images.githubusercontent.com/3708689/255829669-b989d9a7-714f-49d2-b59f-03829568ec30.png\" width=300 height=300/>\n",
    "\n",
    "The sample circuit in the figure shows:\n",
    "\n",
    "* The qubits, circled in blue.\n",
    "* A gate, circled in magenta.\n",
    "* A layer, circled in green.\n",
    "\n",
    "Quantum software development kits (SDKs), such as Qiskit, already provide\n",
    "classes to describe the quantum circuit.\n",
    "However, we need a further abstraction layer to represent the Ansatz for the\n",
    "system.\n",
    "Having a flexible abstract representation of the state is beneficial for, among\n",
    "others, these reasons:\n",
    "\n",
    "* Optimized circuits are difficult to interpret, so having both concrete (as circuit) and abstract (as Ansatz) representations can be beneficial for algorithmic analysis, physical and chemical insight.\n",
    "* Transpiling from the state representation to the circuit implemented on hardware can be aggressively optimized. Both the efficiency of transpilation and the efficiency of the resulting circuits can make or break a variational quantum algorithm.\n",
    "\n",
    "After discussions with the team, there's agreement that you should design, implement, and unit-test an `Ansatz` class that:\n",
    "\n",
    "* Respects these constraints:\n",
    "\n",
    "    1. Each layer can have multiple gates.\n",
    "    2. No gates can overlap in a layer.\n",
    "    3. Only 1- and 2-qubit gates are allowed. That is, in the figure above any gate can \"touch\" at most two qubits.\n",
    "\n",
    "* Achieves these functional requirements:\n",
    "\n",
    "    1. Fast access to the first available layer.\n",
    "    2. Fast iteration qubit-by-qubit.\n",
    "    3. Fast iteration layer-by-layer."
   ]
  },
  {
   "cell_type": "markdown",
   "metadata": {},
   "source": [
    "A gate is a wrapper type for a unitary matrix of dimension $2^q \\times 2^q$, where $q$ is the number of active qubits for the gate, either 1 or 2, given the constraint above.\n",
    "\n",
    "You can assume it's implemented as:"
   ]
  },
  {
   "cell_type": "code",
   "execution_count": 1,
   "metadata": {},
   "outputs": [],
   "source": [
    "from dataclasses import dataclass\n",
    "\n",
    "import numpy as np\n",
    "\n",
    "\n",
    "@dataclass\n",
    "class Gate:\n",
    "    qubits: list[int]\n",
    "    \"\"\"List of active qubits for the gate.\"\"\"\n",
    "    unitary: np.ndarray\n",
    "    \"\"\"Gate unitary.\"\"\""
   ]
  },
  {
   "cell_type": "markdown",
   "metadata": {},
   "source": [
    "1. What is your strategy to hash out the design for this class?\n",
    "2. How would you actually implement your design? Please show relevant code snippets.\n",
    "3. How would you test that your implementations meets the constraints and functional requirements? Please show relevant code snippets.\n",
    "4. Explain how you would gather further feedback from the team and ask for clarifications on the specifications."
   ]
  },
  {
   "cell_type": "markdown",
   "metadata": {},
   "source": [
    "## <span style='color:blue'> Answer </span>\n",
    "\n",
    "**1. What is your strategy to hash out the design for this class?**\n",
    "\n",
    "Well, Ansatz referes to the quantum machine learning process and mainly it is about the variational quantum circuits. To deal with this problem I would like to start with the main three blocks that we have in a quantum device. First block is **encoding block** which we encod classical data to the quantum states. The second block is **Quantum model** which can either be *deterministic* or *variationl*. In this case we are dealing with **variational quantum model**. And the last block is our measurment block that the output tells us how much we are close to the true anwere.\n",
    "\n",
    "As a simple example I would say that we can start with a bunch of qubits in random states and then apply various type of trainable-gates over them and following that we have measurment like the expection value of an operator. Then by comparison the measurment result by the true value and calculation the cost function we understand how we should train the gates in order to reach the zero value for cost function.\n",
    "\n",
    "In this problem we just need to design an **Ansatz class** with specific constraints and requirements. \n",
    "* we need a class to represnt the states of qunatum system which involve multiple layers, where each layer contain a list of gates.\n",
    "* we have a constrain about layer which each layer can contain multiple gates, but there should be no overlap between gates in a layer. Only 1- and 2-qubit gates are allowed\n",
    "* we shoud achieves functional requirements like: fast access to the first available layer, fast iteration qubit-by-qubit, and fast iteration layer-by-layer.\n",
    "\n",
    "**2. How would you actually implement your design? Please show relevant code snippets.**\n",
    "\n",
    "To start, lets deal with this problem just by considering the constrain that we have:\n",
    "1. Each layer can have multiple gates.\n",
    "2. No gates can overlap in a layer.\n",
    "3. Only 1- and 2-qubit gates are allowed. That is, in the figure above any gate can \"touch\" at most two qubits.\n",
    "\n",
    "Intersting point here is about this constrains that all about the layers. Then in this step we have a specific outline for making the layers class."
   ]
  },
  {
   "cell_type": "code",
   "execution_count": 2,
   "metadata": {},
   "outputs": [],
   "source": [
    "from dataclasses import dataclass\n",
    "import numpy as np\n",
    "\n",
    "@dataclass\n",
    "class Gate:\n",
    "    qubits: list[int]\n",
    "    \"\"\"List of active qubits for the gate (only one or two qubits).\"\"\"\n",
    "    unitary: np.ndarray\n",
    "    \"\"\"Gate unitary.\"\"\"\n",
    "\n",
    "class Layer:\n",
    "\n",
    "    def __init__(self):\n",
    "        self.gates = [] \n",
    "\n",
    "    def add_gate(self, gate):\n",
    "        if len(gate.qubits) not in [1,2]:\n",
    "            raise ValueError('doesnt opperate over one or two active qubit')\n",
    "        for exist_gate in self.gates:\n",
    "            if set(gate.qubits) & set(exist_gate.qubits):\n",
    "                raise ValueError('has overlap with others')\n",
    "        self.gates.append(gate)\n",
    "        return 'gate add successfully'\n"
   ]
  },
  {
   "cell_type": "markdown",
   "metadata": {},
   "source": [
    "Now its the time to define **Ansatz class**. For making this part we should consider that at the end we must meet the functional requirements:\n",
    "\n",
    "**Fast access to the first available layer.**\n",
    "\n",
    "In this part, I would say that accessing to the first element of a list takes constant time in python. In this case regardless to the number of layers as we want to access to the first elemnt of list, we meet the target.\n",
    "\n",
    "**Fast iteration layer-by-layer.**\n",
    "\n",
    "A Practical way to iterate layer-by-layer is using the *yield* as instead of returning entire of a list at once, yield one at time. This is thefaset sturcure of  the code that we do iteration layer by layer and in each time we consider specific layer.\n",
    "\n",
    "**Fast iteration qubit-by-qubit.**\n",
    "\n",
    "Again using *yield* we will have iteration over qubits in an efficient way"
   ]
  },
  {
   "cell_type": "code",
   "execution_count": 3,
   "metadata": {},
   "outputs": [],
   "source": [
    "from dataclasses import dataclass\n",
    "import numpy as np\n",
    "\n",
    "@dataclass\n",
    "class Gate:\n",
    "    qubits: list[int]\n",
    "    \"\"\"List of active qubits for the gate (only one or two qubits).\"\"\"\n",
    "    unitary: np.ndarray\n",
    "    \"\"\"Gate unitary.\"\"\"\n",
    "\n",
    "class Ansatz_Layer:\n",
    "    '''In this version of layers we will ignore the wrong gates.'''\n",
    "    def __init__(self):\n",
    "        self.gates = [] \n",
    "\n",
    "    def add_gate(self, gate):\n",
    "        if len(gate.qubits) not in [1,2]:\n",
    "            return  \n",
    "        for exist_gate in self.gates:\n",
    "            if set(gate.qubits) & set(exist_gate.qubits):\n",
    "                return\n",
    "        self.gates.append(gate)\n",
    "    def __iter__(self):\n",
    "        '''For fast iteration over layers and qubits'''\n",
    "        return iter(self.gates)\n",
    "    \n",
    "class Ansatz:\n",
    "\n",
    "    def __init__(self):\n",
    "        self.layers = []\n",
    "    \n",
    "    def add_layer(self, layer):\n",
    "        self.layers.append(layer)\n",
    "    \n",
    "    def get_layer(self):\n",
    "        return self.layers\n",
    "    \n",
    "    def get_first_layer(self):\n",
    "        if self.layers:\n",
    "            return self.layers[0]\n",
    "        else:\n",
    "            return None\n",
    "        \n",
    "    def get_layer_iteration(self):\n",
    "        '''return iter(self.layers)'''\n",
    "        for layer in self.layers:\n",
    "            yield layer\n",
    "        \n",
    "    def get_qubit_iteration(self):\n",
    "        for layer in self.layers:\n",
    "            for gate in layer:\n",
    "                for qubit in gate.qubits:\n",
    "                    yield qubit\n",
    "\n"
   ]
  },
  {
   "cell_type": "markdown",
   "metadata": {},
   "source": [
    "**3. How would you test that your implementations meets the constraints and functional requirements? Please show relevant code snippets.** \n",
    "\n",
    "For test these classes I would like to do test over each classes in order to debuging. Let's begin by the **Layer class**."
   ]
  },
  {
   "cell_type": "code",
   "execution_count": 4,
   "metadata": {},
   "outputs": [],
   "source": [
    "layer = Layer()\n",
    "def Layer_test(lst_gates):\n",
    "    for i, gate in enumerate(lst_gates):\n",
    "        try:\n",
    "            layer.add_gate(gate)\n",
    "        except ValueError as e:\n",
    "            print(f'there is a problem: gate {i} {e}')"
   ]
  },
  {
   "cell_type": "markdown",
   "metadata": {},
   "source": [
    "by defining a couple of gates we try to test the layer class"
   ]
  },
  {
   "cell_type": "code",
   "execution_count": 5,
   "metadata": {},
   "outputs": [
    {
     "name": "stdout",
     "output_type": "stream",
     "text": [
      "there is a problem: gate 1 doesnt opperate over one or two active qubit\n",
      "there is a problem: gate 3 has overlap with others\n"
     ]
    }
   ],
   "source": [
    "gate0 = Gate([0], np.identity(2))\n",
    "gate1 = Gate([0,1,3], np.identity(8))\n",
    "gate2 = Gate([1,2], np.identity(4))\n",
    "gate3 = Gate([0,2], np.identity(4))\n",
    "\n",
    "gates = [gate0, gate1, gate2, gate3]\n",
    "\n",
    "Layer_test(gates)"
   ]
  },
  {
   "cell_type": "markdown",
   "metadata": {},
   "source": [
    "Here we can see that gate 1 and gate 3 have problems and we expect that they don-t append to the layer. Let's have a look"
   ]
  },
  {
   "cell_type": "code",
   "execution_count": 6,
   "metadata": {},
   "outputs": [
    {
     "data": {
      "text/plain": [
       "[Gate(qubits=[0], unitary=array([[1., 0.],\n",
       "        [0., 1.]])),\n",
       " Gate(qubits=[1, 2], unitary=array([[1., 0., 0., 0.],\n",
       "        [0., 1., 0., 0.],\n",
       "        [0., 0., 1., 0.],\n",
       "        [0., 0., 0., 1.]]))]"
      ]
     },
     "execution_count": 6,
     "metadata": {},
     "output_type": "execute_result"
    }
   ],
   "source": [
    "layer.gates"
   ]
  },
  {
   "cell_type": "markdown",
   "metadata": {},
   "source": [
    "Yeah, It is working."
   ]
  },
  {
   "cell_type": "markdown",
   "metadata": {},
   "source": [
    "Now let's do some test over the Ansatz class. Here we should bear in mind that the layer class is improved by some corrections."
   ]
  },
  {
   "cell_type": "code",
   "execution_count": 7,
   "metadata": {},
   "outputs": [
    {
     "data": {
      "text/plain": [
       "[Gate(qubits=[0], unitary=array([[1., 0.],\n",
       "        [0., 1.]])),\n",
       " Gate(qubits=[1, 2], unitary=array([[1., 0., 0., 0.],\n",
       "        [0., 1., 0., 0.],\n",
       "        [0., 0., 1., 0.],\n",
       "        [0., 0., 0., 1.]]))]"
      ]
     },
     "execution_count": 7,
     "metadata": {},
     "output_type": "execute_result"
    }
   ],
   "source": [
    "gate0 = Gate([0], np.identity(2))\n",
    "gate1 = Gate([0,1,2], np.identity(8))\n",
    "gate2 = Gate([1,2], np.identity(4))\n",
    "gate3 = Gate([0,2], np.identity(4))\n",
    "\n",
    "layer1 = Ansatz_Layer()\n",
    "layer2 = Ansatz_Layer()\n",
    "layer3 = Ansatz_Layer()\n",
    "\n",
    "layer1.add_gate(gate0)\n",
    "layer1.add_gate(gate2)\n",
    "layer2.add_gate(gate3) \n",
    "layer3.add_gate(gate1)\n",
    "\n",
    "ansatz = Ansatz()\n",
    "ansatz.add_layer(layer1) \n",
    "ansatz.add_layer(layer2)\n",
    "ansatz.add_layer(layer3)\n",
    "\n",
    "first_layer = ansatz.get_first_layer()\n",
    "\n",
    "first_layer.gates"
   ]
  },
  {
   "cell_type": "markdown",
   "metadata": {},
   "source": [
    "Lets test the code when we have wrong gate"
   ]
  },
  {
   "cell_type": "code",
   "execution_count": 8,
   "metadata": {},
   "outputs": [
    {
     "data": {
      "text/plain": [
       "[]"
      ]
     },
     "execution_count": 8,
     "metadata": {},
     "output_type": "execute_result"
    }
   ],
   "source": [
    "layers = ansatz.get_layer()\n",
    "layers[2].gates"
   ]
  },
  {
   "cell_type": "markdown",
   "metadata": {},
   "source": [
    "yep. we have an empty list"
   ]
  },
  {
   "cell_type": "markdown",
   "metadata": {},
   "source": [
    "Lets have a look on get_layer_iteration function that is iteration layar-by-layer"
   ]
  },
  {
   "cell_type": "code",
   "execution_count": 9,
   "metadata": {},
   "outputs": [
    {
     "name": "stdout",
     "output_type": "stream",
     "text": [
      "Layer 1:\n",
      "  Gate acting on qubits [0]\n",
      "  Gate acting on qubits [1, 2]\n",
      "Layer 2:\n",
      "  Gate acting on qubits [0, 2]\n",
      "Layer 3:\n"
     ]
    }
   ],
   "source": [
    "for i, layer in enumerate(ansatz.get_layer_iteration()):\n",
    "    print(f\"Layer {i+1}:\")\n",
    "    for gate in layer:\n",
    "        print(f\"  Gate acting on qubits {gate.qubits}\")\n"
   ]
  },
  {
   "cell_type": "markdown",
   "metadata": {},
   "source": [
    "Lets have a look on get_qubit_iteration function that is iteration qubit-by-qubit"
   ]
  },
  {
   "cell_type": "code",
   "execution_count": 10,
   "metadata": {},
   "outputs": [
    {
     "name": "stdout",
     "output_type": "stream",
     "text": [
      "0\n",
      "1\n",
      "2\n",
      "0\n",
      "2\n"
     ]
    }
   ],
   "source": [
    "for qubit in ansatz.get_qubit_iteration():\n",
    "    print(qubit)"
   ]
  },
  {
   "cell_type": "markdown",
   "metadata": {},
   "source": [
    "Which is completly True! in first layer we start by qubit 0,1,2 and then in the second layer we have qubit 0 and 2."
   ]
  }
 ],
 "metadata": {
  "kernelspec": {
   "display_name": "TN_QML",
   "language": "python",
   "name": "python3"
  },
  "language_info": {
   "codemirror_mode": {
    "name": "ipython",
    "version": 3
   },
   "file_extension": ".py",
   "mimetype": "text/x-python",
   "name": "python",
   "nbconvert_exporter": "python",
   "pygments_lexer": "ipython3",
   "version": "3.12.3"
  }
 },
 "nbformat": 4,
 "nbformat_minor": 2
}
