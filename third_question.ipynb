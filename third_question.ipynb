{
 "cells": [
  {
   "cell_type": "markdown",
   "metadata": {},
   "source": [
    "## Tensor contractions\n",
    "\n",
    "The following code performs the contraction:\n",
    "\n",
    "$$\n",
    "M_{pqrs} = \\sum_{ABCD} S_{pA}T_{qB} U_{rC} V_{sD} I_{ABCD}\n",
    "$$"
   ]
  },
  {
   "cell_type": "code",
   "execution_count": null,
   "metadata": {},
   "outputs": [],
   "source": [
    "import numpy as np\n",
    "\n",
    "\n",
    "def contract_to_M(I: np.ndarray, S: np.ndarray, T: np.ndarray, U: np.ndarray, V:np.ndarray) -> np.ndarray:\n",
    "    M = np.zeros((S.shape[0], T.shape[0], U.shape[0], V.shape[0]))\n",
    "\n",
    "    for p in range(M.shape[0]):\n",
    "        for q in range(M.shape[1]):\n",
    "            for r in range(M.shape[2]):\n",
    "                for s in range(M.shape[3]):\n",
    "                    for A in range(I.shape[0]):\n",
    "                        for B in range(I.shape[1]):\n",
    "                            for C in range(I.shape[2]):\n",
    "                                for D in range(I.shape[3]):\n",
    "                                    M[p, q, r, s] += S[p, A] * T[q, B] * U[r, C] * V[s, D] * I[A, B, C, D]\n",
    "\n",
    "    return M"
   ]
  },
  {
   "cell_type": "markdown",
   "metadata": {},
   "source": [
    "1. What are the _Big-O_ estimates for the number of FLOPS and the amount of memory required?\n",
    "2. How would you check that your estimates are in the right ballpark?\n",
    "3. Rearrange the function such that the _Big-O_ estimate for the number of FLOPS is minimized. How are the _Big-O_ estimates for the memory affected?\n",
    "4. Write tests to make sure the behaviour is consistent between the original and the rearranged versions of the code."
   ]
  },
  {
   "cell_type": "markdown",
   "metadata": {},
   "source": [
    "## <span style='color:blue'> Answer </span>"
   ]
  },
  {
   "cell_type": "markdown",
   "metadata": {},
   "source": [
    "Well let's have a look on this problem using **quimb**. Suppose we have random tensors that one of them **I** has common index with others **S, T, U, and V**."
   ]
  },
  {
   "cell_type": "code",
   "execution_count": null,
   "metadata": {},
   "outputs": [
    {
     "data": {
      "image/png": "[encoded data removed]",
      "text/plain": [
       "<Figure size 1000x300 with 1 Axes>"
      ]
     },
     "metadata": {},
     "output_type": "display_data"
    }
   ],
   "source": [
    "import quimb as qu\n",
    "import quimb.tensor as qtn \n",
    "\n",
    "I = qtn.rand_tensor(shape = [4,4,4,4], inds = ['A', 'B', 'C', 'D'], tags='I')\n",
    "S = qtn.rand_tensor(shape = [3,4], inds = ['p','A'], tags='S')\n",
    "T = qtn.rand_tensor(shape = [3,4], inds = ['q','B'], tags='T')\n",
    "U = qtn.rand_tensor(shape = [3,4], inds = ['r','C'], tags='U')\n",
    "V = qtn.rand_tensor(shape = [3,4], inds = ['s','D'], tags='V')\n",
    "\n",
    "res = S@T@U@V@I\n",
    "res.draw(node_color='maroon',\n",
    "         node_outline_darkness=.1,\n",
    "         figsize=(10,3),\n",
    "         edge_color='black')"
   ]
  },
  {
   "cell_type": "markdown",
   "metadata": {},
   "source": [
    "**1. What are the _Big-O_ estimates for the number of FLOPS and the amount of memory required?**\n",
    "\n",
    "Well, to answer to this question, I would say we have some indexes that will contract with each others and we can call them as an inner indexes (A, B, C, D) and some outer indexes (p, q, r, s) that doesn't have any contractions. \n",
    "\n",
    "In the code that is provided by the host we can see $8$ nested loops which increase the computational cost by $O(N^8)$ where $N$ represents the dimensions of the each matrices.\n",
    "\n",
    "For the memory requirement, I would say that RAM is the place to store inputs and outputs. Then we should calculate how much storage we need for input matrix and how much for the output. Here the point is about largest term among input matrixes that always dominant and take the major part of the memory and no need to consider low dimension tensors in the presence of large tensors. Consider this explanation the largest tensor among input tensors is $I_{ABCD}$ which its respective dimension is  $O(N^4)$ and the output matrix is $M_{pqrs}$ with respective dimension $O(M^4)$. This tells us that the memory usage is $I+M$"
   ]
  },
  {
   "cell_type": "markdown",
   "metadata": {},
   "source": [
    "**2. How would you check that your estimates are in the right ballpark?**\n",
    "\n",
    "Well mainly the structure of the code tells us how much it is efficient but for check the code we have some tools like *time* library for evaluation the runtime. \n",
    "\n",
    "Also for evaluating the memory usage we can use libraries like *tracemalloc* which is effectively monitor the memory usage. \n",
    "\n",
    "Moreover for the CPU usage in some cases we should use *psutil* library\n"
   ]
  },
  {
   "cell_type": "markdown",
   "metadata": {},
   "source": [
    "**3. Rearrange the function such that the _Big-O_ estimate for the number of FLOPS is minimized. How are the _Big-O_ estimates for the memory affected?**\n",
    "\n",
    "For this part I will rearrange the code in two ways. one of them using *np.tensordot* and another one using *np.einsum*. First lets make a class the funstions."
   ]
  },
  {
   "cell_type": "code",
   "execution_count": null,
   "metadata": {},
   "outputs": [],
   "source": [
    "import numpy as np\n",
    "\n",
    "class tensor_contract():\n",
    "    def __init__(self, I, S, T, U, V):\n",
    "        self.I = I\n",
    "        self.S = S\n",
    "        self.T = T\n",
    "        self.U = U\n",
    "        self.V = V\n",
    "\n",
    "    def contract_to_M(self):\n",
    "        M = np.zeros((self.S.shape[0], self.T.shape[0], self.U.shape[0], self.V.shape[0]))\n",
    "\n",
    "        for p in range(M.shape[0]):\n",
    "            for q in range(M.shape[1]):\n",
    "                for r in range(M.shape[2]):\n",
    "                    for s in range(M.shape[3]):\n",
    "                        for A in range(self.I.shape[0]):\n",
    "                            for B in range(self.I.shape[1]):\n",
    "                                for C in range(self.I.shape[2]):\n",
    "                                    for D in range(self.I.shape[3]):\n",
    "                                        M[p, q, r, s] += self.S[p, A] * self.T[q, B] * self.U[r, C] * self.V[s, D] * self.I[A, B, C, D]\n",
    "\n",
    "        return M\n",
    "\n",
    "    def contract_to_M_tensordot(self):\n",
    "        M = np.tensordot(self.I, self.V, axes=(3, 1)) \n",
    "        M = np.tensordot(M, self.U, axes=(2, 1)) \n",
    "        M = np.tensordot(M, self.T, axes=(1, 1)) \n",
    "        M = np.tensordot(M, self.S, axes=(0, 1))  \n",
    "        return M\n",
    "\n",
    "    def contract_to_M_einsum(self):\n",
    "        M = np.einsum('ABCD, pA, qB, rC, sD->pqrs', self.I, self.S, self.T, self.U, self.V)\n",
    "        return M"
   ]
  },
  {
   "cell_type": "markdown",
   "metadata": {},
   "source": [
    "Now we can have a look on the time evaluation for these three methods"
   ]
  },
  {
   "cell_type": "code",
   "execution_count": null,
   "metadata": {},
   "outputs": [],
   "source": [
    "I = np.random.rand(4, 4, 4, 4)\n",
    "S = np.random.rand(3, 4)\n",
    "T = np.random.rand(3, 4)\n",
    "U = np.random.rand(3, 4)\n",
    "V = np.random.rand(3, 4)\n",
    "\n",
    "contractor = tensor_contract(I, S, T, U, V)"
   ]
  },
  {
   "cell_type": "code",
   "execution_count": null,
   "metadata": {},
   "outputs": [
    {
     "name": "stdout",
     "output_type": "stream",
     "text": [
      "host_code_runtime: 0.09019947052001953\n",
      "tensordot_runtime: 0.0009753704071044922\n",
      "einsum_runtime: 0.0006814002990722656\n"
     ]
    }
   ],
   "source": [
    "import time\n",
    "\n",
    "start_h = time.time()\n",
    "host = contractor.contract_to_M()\n",
    "end_h = time.time()\n",
    "print(\"host_code_runtime:\", end_h - start_h)\n",
    "start_d = time.time()\n",
    "M_tdot = contractor.contract_to_M_tensordot()\n",
    "end_d = time.time()\n",
    "print(\"tensordot_runtime:\", end_d - start_d)\n",
    "start_e = time.time()\n",
    "M_einsum = contractor.contract_to_M_einsum()\n",
    "end_e = time.time()\n",
    "print(\"einsum_runtime:\", end_e - start_e)"
   ]
  },
  {
   "cell_type": "code",
   "execution_count": null,
   "metadata": {},
   "outputs": [
    {
     "name": "stdout",
     "output_type": "stream",
     "text": [
      "host_peak_memory_usage: 21460\n",
      "tensordot_peak_memory_usage: 19920\n",
      "einsum_peak_memory_usage: 398160\n"
     ]
    }
   ],
   "source": [
    "import tracemalloc\n",
    "\n",
    "tracemalloc.start()\n",
    "result = contractor.contract_to_M()\n",
    "_, h_peak_memory = tracemalloc.get_traced_memory()\n",
    "tracemalloc.stop() \n",
    "print(\"host_peak_memory_usage:\", h_peak_memory)\n",
    "\n",
    "tracemalloc.start()\n",
    "result = contractor.contract_to_M_tensordot()\n",
    "_, d_peak_memory = tracemalloc.get_traced_memory()\n",
    "tracemalloc.stop() \n",
    "print(\"tensordot_peak_memory_usage:\", d_peak_memory)\n",
    "\n",
    "tracemalloc.start()\n",
    "result = contractor.contract_to_M_einsum()\n",
    "_, e_peak_memory = tracemalloc.get_traced_memory()\n",
    "tracemalloc.stop() \n",
    "print(\"einsum_peak_memory_usage:\", e_peak_memory)"
   ]
  },
  {
   "cell_type": "markdown",
   "metadata": {},
   "source": [
    "**4. Write tests to make sure the behaviour is consistent between the original and the rearranged versions of the code.**\n",
    "\n",
    "To become ensure about the original and rearranged version I would say that we can use *np.allclose* in a function that return us the boolean."
   ]
  },
  {
   "cell_type": "code",
   "execution_count": null,
   "metadata": {},
   "outputs": [],
   "source": [
    "def test_contract(func_1, func_2):\n",
    "    if np.allclose(func_1, func_2) == True:\n",
    "        return 'successful'\n",
    "    else:\n",
    "        return 'unsuccessful'"
   ]
  },
  {
   "cell_type": "markdown",
   "metadata": {},
   "source": [
    "I am considering the host approach as a true answer and I will compare the other codes with that"
   ]
  },
  {
   "cell_type": "code",
   "execution_count": null,
   "metadata": {},
   "outputs": [
    {
     "name": "stdout",
     "output_type": "stream",
     "text": [
      "the test result for the tensordot approach is unsuccessful\n",
      "the test result for the einsum approach is successful\n"
     ]
    }
   ],
   "source": [
    "host = contractor.contract_to_M()\n",
    "M_tdot = contractor.contract_to_M_tensordot()\n",
    "M_einsum = contractor.contract_to_M_einsum()\n",
    "\n",
    "print('the test result for the tensordot approach is', test_contract(host, M_tdot))\n",
    "print('the test result for the einsum approach is', test_contract(host, M_einsum))\n"
   ]
  }
 ],
 "metadata": {
  "language_info": {
   "name": "python"
  }
 },
 "nbformat": 4,
 "nbformat_minor": 2
}
