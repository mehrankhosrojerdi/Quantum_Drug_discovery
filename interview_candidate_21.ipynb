{
 "cells": [
  {
   "cell_type": "markdown",
   "id": "cee89ac3",
   "metadata": {},
   "source": [
    "# Junior software engineer technical interview\n",
    "> **NOTE** There is no *single right answer* for these tasks.\n",
    "> For example, there might only be optimizations with negligible speed-ups to be made to the sample codes.\n",
    "> Primarily, we want to see how you approach them and will use your answers to kick off a discussion.\n",
    "> The problems are formulated such that deep knowledge of the problem domain is not needed."
   ]
  },
  {
   "cell_type": "markdown",
   "id": "21788132",
   "metadata": {},
   "source": [
    "> **NOTE** We use Copilot to automate some of our day-to-day coding tasks.\n",
    "> Please, let us know if you used Copilot or any similar tool when working through this notebook."
   ]
  },
  {
   "cell_type": "markdown",
   "id": "eb0d2c3c",
   "metadata": {},
   "source": [
    "## Best practices for collaborative code development\n",
    "\n",
    "We are in the process of setting up a repository for our platform for chemistry\n",
    "simulations for drug design and discovery.\n",
    "\n",
    "The platform will be initially for internal use, but we plan to release at least\n",
    "parts of it as open source. Many of the current developers are scientists\n",
    "without a strong development background. The workflow should be lean but take\n",
    "into account a lot of code review to remove spaghetti code, add tests,\n",
    "documentation _etc._\n",
    "\n",
    "Knowing all this, how would you proceed with designing the development and\n",
    "maintenance workflow, including:\n",
    "\n",
    "* git workflow\n",
    "* versioning scheme\n",
    "* release cycle\n",
    "* Tests/linting/formatting (and CI in general)\n",
    "* pull request policies, review _etc._"
   ]
  },
  {
   "cell_type": "markdown",
   "id": "a92b4d19",
   "metadata": {},
   "source": [
    "## <span style='color:blue'> Answer </span>\n",
    "\n",
    "**git workflow**\n",
    "* To do practice over this part I've made this repository https://github.com/mehrankhosrojerdi/Quantum_Drug_discovery.git. \n",
    "* In the first stage I've tried to make some branches to do push changes over them and then I've merged them with the main branch and finally to have a clean repository I've deleted then.\n",
    "\n",
    "**versioning scheme**\n",
    "* In this part we mainly use github tag for release tracking\n",
    "* For this part I've started to make tgas and push them to the github for released and beta version\n",
    "\n",
    "**release cycle**\n",
    "* This cycle consist of doing some update over code in rder to fix bugs or add a new feature\n",
    "* it consist of first stage, pre-released, stable release, patch release and final version\n",
    "\n",
    "**Tests/linting/formatting (and CI in general)**\n",
    "* Using continuous integration (CI) we are trying detect issues early and ensure that the new code integrates well.\n",
    "* Using CI we want to ensure that the new change doesn’t break the code and it works correctly with the rest of the project.\n",
    "* For specific project we should make a workflow directory in local repository and make a .yml file. While we have an opportunity to use the template that are ready to use in github/action for python files.\n",
    "* Using .yml file we have this opportunity to either test each units of the code or testing the entire of the result.\n",
    "\n",
    "**pull request policies, review _etc._**\n",
    "* In pull request we clearly describe changes \n",
    "* In PR team members ensure that the code looks good\n",
    "* Main code remain clean"
   ]
  },
  {
   "cell_type": "markdown",
   "id": "a3f624b2",
   "metadata": {},
   "source": [
    "## Design and implementation of an `Ansatz` class\n",
    "\n",
    "The state of a quantum system is represented as a circuit on a quantum computer.\n",
    "For a system with $N$ qubits, the circuit will consist of a certain number of\n",
    "_gates_ arranged in $M$ _layers_.\n",
    "\n",
    "<img src=\"https://user-images.githubusercontent.com/3708689/255829669-b989d9a7-714f-49d2-b59f-03829568ec30.png\" width=300 height=300/>\n",
    "\n",
    "The sample circuit in the figure shows:\n",
    "\n",
    "* The qubits, circled in blue.\n",
    "* A gate, circled in magenta.\n",
    "* A layer, circled in green.\n",
    "\n",
    "Quantum software development kits (SDKs), such as Qiskit, already provide\n",
    "classes to describe the quantum circuit.\n",
    "However, we need a further abstraction layer to represent the Ansatz for the\n",
    "system.\n",
    "Having a flexible abstract representation of the state is beneficial for, among\n",
    "others, these reasons:\n",
    "\n",
    "* Optimized circuits are difficult to interpret, so having both concrete (as circuit) and abstract (as Ansatz) representations can be beneficial for algorithmic analysis, physical and chemical insight.\n",
    "* Transpiling from the state representation to the circuit implemented on hardware can be aggressively optimized. Both the efficiency of transpilation and the efficiency of the resulting circuits can make or break a variational quantum algorithm.\n",
    "\n",
    "After discussions with the team, there's agreement that you should design, implement, and unit-test an `Ansatz` class that:\n",
    "\n",
    "* Respects these constraints:\n",
    "\n",
    "    1. Each layer can have multiple gates.\n",
    "    2. No gates can overlap in a layer.\n",
    "    3. Only 1- and 2-qubit gates are allowed. That is, in the figure above any gate can \"touch\" at most two qubits.\n",
    "\n",
    "* Achieves these functional requirements:\n",
    "\n",
    "    1. Fast access to the first available layer.\n",
    "    2. Fast iteration qubit-by-qubit.\n",
    "    3. Fast iteration layer-by-layer."
   ]
  },
  {
   "cell_type": "markdown",
   "id": "c044d296",
   "metadata": {},
   "source": [
    "A gate is a wrapper type for a unitary matrix of dimension $2^q \\times 2^q$, where $q$ is the number of active qubits for the gate, either 1 or 2, given the constraint above.\n",
    "\n",
    "You can assume it's implemented as:"
   ]
  },
  {
   "cell_type": "code",
   "execution_count": 1,
   "id": "116bd671",
   "metadata": {},
   "outputs": [],
   "source": [
    "from dataclasses import dataclass\n",
    "\n",
    "import numpy as np\n",
    "\n",
    "\n",
    "@dataclass\n",
    "class Gate:\n",
    "    qubits: list[int]\n",
    "    \"\"\"List of active qubits for the gate.\"\"\"\n",
    "    unitary: np.ndarray\n",
    "    \"\"\"Gate unitary.\"\"\""
   ]
  },
  {
   "cell_type": "markdown",
   "id": "3462e66a",
   "metadata": {},
   "source": [
    "1. What is your strategy to hash out the design for this class?\n",
    "2. How would you actually implement your design? Please show relevant code snippets.\n",
    "3. How would you test that your implementations meets the constraints and functional requirements? Please show relevant code snippets.\n",
    "4. Explain how you would gather further feedback from the team and ask for clarifications on the specifications."
   ]
  },
  {
   "cell_type": "markdown",
   "id": "780df25e",
   "metadata": {},
   "source": [
    "puls diagram\n"
   ]
  },
  {
   "cell_type": "markdown",
   "id": "07e2092f",
   "metadata": {},
   "source": [
    "## <span style='color:blue'> Answer </span>\n",
    "\n",
    "**1. What is your strategy to hash out the design for this class?**\n",
    "\n",
    "Well, Ansatz referes to the quantum machine learning process and mainly it is about the variational quantum circuits. To deal with this problem I would like to start with the main three blocks that we have in a quantum device. First block is **encoding block** which we encod classical data to the quantum states. The second block is **Quantum model** which can either be *deterministic* or *variationl*. In this case we are dealing with **variational quantum model**. And the last block is our measurment block that the output tells us how much we are close to the true anwere.\n",
    "\n",
    "As a simple example I would say that we can start with a bunch of qubits in random states and then apply various type of trainable-gates over them and following that we have measurment like the expection value of an operator. Then by comparison the measurment result by the true value and calculation the cost function we understand how we should train the gates in order to reach the zero value for cost function.\n",
    "\n",
    "In this problem we just need to design an **Ansatz class** with specific constraints and requirements. \n",
    "* we need a class to represnt the states of qunatum system which involve multiple layers, where each layer contain a list of gates.\n",
    "* we have a constrain about layer which each layer can contain multiple gates, but there should be no overlap between gates in a layer. Only 1- and 2-qubit gates are allowed\n",
    "* we shoud achieves functional requirements like: fast access to the first available layer, fast iteration qubit-by-qubit, and fast iteration layer-by-layer.\n",
    "\n",
    "**2. How would you actually implement your design? Please show relevant code snippets.**\n",
    "\n",
    "To start, lets deal with this problem just by considering the constrain that we have:\n",
    "1. Each layer can have multiple gates.\n",
    "2. No gates can overlap in a layer.\n",
    "3. Only 1- and 2-qubit gates are allowed. That is, in the figure above any gate can \"touch\" at most two qubits.\n",
    "\n",
    "Intersting point here is about this constrains that all about the layers. Then in this step we have a specific outline for making the layers class."
   ]
  },
  {
   "cell_type": "code",
   "execution_count": 159,
   "id": "49abae1e",
   "metadata": {},
   "outputs": [],
   "source": [
    "from dataclasses import dataclass\n",
    "import numpy as np\n",
    "\n",
    "@dataclass\n",
    "class Gate:\n",
    "    qubits: list[int]\n",
    "    \"\"\"List of active qubits for the gate (only one or two qubits).\"\"\"\n",
    "    unitary: np.ndarray\n",
    "    \"\"\"Gate unitary.\"\"\"\n",
    "\n",
    "class Layer:\n",
    "\n",
    "    def __init__(self):\n",
    "        self.gates = [] \n",
    "\n",
    "    def add_gate(self, gate):\n",
    "        if len(gate.qubits) not in [1,2]:\n",
    "            raise ValueError('doesnt opperate over one or two active qubit')\n",
    "        for exist_gate in self.gates:\n",
    "            if set(gate.qubits) & set(exist_gate.qubits):\n",
    "                raise ValueError('has overlap with others')\n",
    "        self.gates.append(gate)\n",
    "        return 'gate add successfully'\n"
   ]
  },
  {
   "cell_type": "markdown",
   "id": "d3b26eb6",
   "metadata": {},
   "source": [
    "Now its the time to define **Ansatz class**. For making this part we should consider that at the end we must meet the functional requirements:\n",
    "\n",
    "**Fast access to the first available layer.**\n",
    "\n",
    "In this part, I would say that accessing to the first element of a list takes constant time in python. In this case regardless to the number of layers as we want to access to the first elemnt of list, we meet the target.\n",
    "\n",
    "**Fast iteration layer-by-layer.**\n",
    "\n",
    "A Practical way to iterate layer-by-layer is using the *yield* as instead of returning entire of a list at once, yield one at time. This is thefaset sturcure of  the code that we do iteration layer by layer and in each time we consider specific layer.\n",
    "\n",
    "**Fast iteration qubit-by-qubit.**\n",
    "\n",
    "Again using *yield* we will have iteration over qubits in an efficient way"
   ]
  },
  {
   "cell_type": "code",
   "execution_count": 198,
   "id": "61dd7a26",
   "metadata": {},
   "outputs": [],
   "source": [
    "from dataclasses import dataclass\n",
    "import numpy as np\n",
    "\n",
    "@dataclass\n",
    "class Gate:\n",
    "    qubits: list[int]\n",
    "    \"\"\"List of active qubits for the gate (only one or two qubits).\"\"\"\n",
    "    unitary: np.ndarray\n",
    "    \"\"\"Gate unitary.\"\"\"\n",
    "\n",
    "class Ansatz_Layer:\n",
    "    '''In this version of layers we will ignore the wrong gates.'''\n",
    "    def __init__(self):\n",
    "        self.gates = [] \n",
    "\n",
    "    def add_gate(self, gate):\n",
    "        if len(gate.qubits) not in [1,2]:\n",
    "            return  \n",
    "        for exist_gate in self.gates:\n",
    "            if set(gate.qubits) & set(exist_gate.qubits):\n",
    "                return\n",
    "        self.gates.append(gate)\n",
    "    def __iter__(self):\n",
    "        '''For fast iteration over layers and qubits'''\n",
    "        return iter(self.gates)\n",
    "    \n",
    "class Ansatz:\n",
    "\n",
    "    def __init__(self):\n",
    "        self.layers = []\n",
    "    \n",
    "    def add_layer(self, layer):\n",
    "        self.layers.append(layer)\n",
    "    \n",
    "    def get_layer(self):\n",
    "        return self.layers\n",
    "    \n",
    "    def get_first_layer(self):\n",
    "        if self.layers:\n",
    "            return self.layers[0]\n",
    "        else:\n",
    "            return None\n",
    "        \n",
    "    def get_layer_iteration(self):\n",
    "        '''return iter(self.layers)'''\n",
    "        for layer in self.layers:\n",
    "            yield layer\n",
    "        \n",
    "    def get_qubit_iteration(self):\n",
    "        for layer in self.layers:\n",
    "            for gate in layer:\n",
    "                for qubit in gate.qubits:\n",
    "                    yield qubit\n",
    "\n"
   ]
  },
  {
   "cell_type": "markdown",
   "id": "adb34a92",
   "metadata": {},
   "source": [
    "**3. How would you test that your implementations meets the constraints and functional requirements? Please show relevant code snippets.** \n",
    "\n",
    "For test these classes I would like to do test over each classes in order to debuging. Let's begin by the **Layer class**."
   ]
  },
  {
   "cell_type": "code",
   "execution_count": 160,
   "id": "90753b63",
   "metadata": {},
   "outputs": [],
   "source": [
    "layer = Layer()\n",
    "def Layer_test(lst_gates):\n",
    "    for i, gate in enumerate(lst_gates):\n",
    "        try:\n",
    "            layer.add_gate(gate)\n",
    "        except ValueError as e:\n",
    "            print(f'there is a problem: gate {i} {e}')"
   ]
  },
  {
   "cell_type": "markdown",
   "id": "02e351c7",
   "metadata": {},
   "source": [
    "by defining a couple of gates we try to test the layer class"
   ]
  },
  {
   "cell_type": "code",
   "execution_count": 161,
   "id": "eaa6e597",
   "metadata": {},
   "outputs": [
    {
     "name": "stdout",
     "output_type": "stream",
     "text": [
      "there is a problem: gate 1 doesnt opperate over one or two active qubit\n",
      "there is a problem: gate 3 has overlap with others\n"
     ]
    }
   ],
   "source": [
    "gate0 = Gate([0], np.identity(2))\n",
    "gate1 = Gate([0,1,3], np.identity(8))\n",
    "gate2 = Gate([1,2], np.identity(4))\n",
    "gate3 = Gate([0,2], np.identity(4))\n",
    "\n",
    "gates = [gate0, gate1, gate2, gate3]\n",
    "\n",
    "Layer_test(gates)"
   ]
  },
  {
   "cell_type": "markdown",
   "id": "d40e1309",
   "metadata": {},
   "source": [
    "Here we can see that gate 1 and gate 3 have problems and we expect that they don-t append to the layer. Let's have a look"
   ]
  },
  {
   "cell_type": "code",
   "execution_count": 162,
   "id": "08f648db",
   "metadata": {},
   "outputs": [
    {
     "data": {
      "text/plain": [
       "[Gate(qubits=[0], unitary=array([[1., 0.],\n",
       "        [0., 1.]])),\n",
       " Gate(qubits=[1, 2], unitary=array([[1., 0., 0., 0.],\n",
       "        [0., 1., 0., 0.],\n",
       "        [0., 0., 1., 0.],\n",
       "        [0., 0., 0., 1.]]))]"
      ]
     },
     "execution_count": 162,
     "metadata": {},
     "output_type": "execute_result"
    }
   ],
   "source": [
    "layer.gates"
   ]
  },
  {
   "cell_type": "markdown",
   "id": "d005832a",
   "metadata": {},
   "source": [
    "Yeah, It is working."
   ]
  },
  {
   "cell_type": "markdown",
   "id": "c32a2c84",
   "metadata": {},
   "source": [
    "Now let's do some test over the Ansatz class. Here we should bear in mind that the layer class is improved by some corrections."
   ]
  },
  {
   "cell_type": "code",
   "execution_count": 200,
   "id": "46681bee",
   "metadata": {},
   "outputs": [
    {
     "data": {
      "text/plain": [
       "[Gate(qubits=[0], unitary=array([[1., 0.],\n",
       "        [0., 1.]])),\n",
       " Gate(qubits=[1, 2], unitary=array([[1., 0., 0., 0.],\n",
       "        [0., 1., 0., 0.],\n",
       "        [0., 0., 1., 0.],\n",
       "        [0., 0., 0., 1.]]))]"
      ]
     },
     "execution_count": 200,
     "metadata": {},
     "output_type": "execute_result"
    }
   ],
   "source": [
    "gate0 = Gate([0], np.identity(2))\n",
    "gate1 = Gate([0,1,2], np.identity(8))\n",
    "gate2 = Gate([1,2], np.identity(4))\n",
    "gate3 = Gate([0,2], np.identity(4))\n",
    "\n",
    "layer1 = Ansatz_Layer()\n",
    "layer2 = Ansatz_Layer()\n",
    "layer3 = Ansatz_Layer()\n",
    "\n",
    "layer1.add_gate(gate0)\n",
    "layer1.add_gate(gate2)\n",
    "layer2.add_gate(gate3) \n",
    "layer3.add_gate(gate1)\n",
    "\n",
    "ansatz = Ansatz()\n",
    "ansatz.add_layer(layer1) \n",
    "ansatz.add_layer(layer2)\n",
    "ansatz.add_layer(layer3)\n",
    "\n",
    "first_layer = ansatz.get_first_layer()\n",
    "\n",
    "first_layer.gates"
   ]
  },
  {
   "cell_type": "markdown",
   "id": "728d9569",
   "metadata": {},
   "source": [
    "Lets test the code when we have wrong gate"
   ]
  },
  {
   "cell_type": "code",
   "execution_count": 201,
   "id": "1355f465",
   "metadata": {},
   "outputs": [
    {
     "data": {
      "text/plain": [
       "[]"
      ]
     },
     "execution_count": 201,
     "metadata": {},
     "output_type": "execute_result"
    }
   ],
   "source": [
    "layers = ansatz.get_layer()\n",
    "layers[2].gates"
   ]
  },
  {
   "cell_type": "markdown",
   "id": "1cb5ee98",
   "metadata": {},
   "source": [
    "yep. we have an empty list"
   ]
  },
  {
   "cell_type": "markdown",
   "id": "8b3bebbe",
   "metadata": {},
   "source": [
    "Lets have a look on get_layer_iteration function that is iteration layar-by-layer"
   ]
  },
  {
   "cell_type": "code",
   "execution_count": 202,
   "id": "75f56002",
   "metadata": {},
   "outputs": [
    {
     "name": "stdout",
     "output_type": "stream",
     "text": [
      "Layer 1:\n",
      "  Gate acting on qubits [0]\n",
      "  Gate acting on qubits [1, 2]\n",
      "Layer 2:\n",
      "  Gate acting on qubits [0, 2]\n",
      "Layer 3:\n"
     ]
    }
   ],
   "source": [
    "for i, layer in enumerate(ansatz.get_layer_iteration()):\n",
    "    print(f\"Layer {i+1}:\")\n",
    "    for gate in layer:\n",
    "        print(f\"  Gate acting on qubits {gate.qubits}\")\n"
   ]
  },
  {
   "cell_type": "markdown",
   "id": "5be3b3ab",
   "metadata": {},
   "source": [
    "Lets have a look on get_qubit_iteration function that is iteration qubit-by-qubit"
   ]
  },
  {
   "cell_type": "code",
   "execution_count": 204,
   "id": "a10e7346",
   "metadata": {},
   "outputs": [
    {
     "name": "stdout",
     "output_type": "stream",
     "text": [
      "0\n",
      "1\n",
      "2\n",
      "0\n",
      "2\n"
     ]
    }
   ],
   "source": [
    "for qubit in ansatz.get_qubit_iteration():\n",
    "    print(qubit)"
   ]
  },
  {
   "cell_type": "markdown",
   "id": "47f44a6b",
   "metadata": {},
   "source": [
    "Which is completly True! in first layer we start by qubit 0,1,2 and then in the second layer we have qubit 0 and 2."
   ]
  },
  {
   "cell_type": "markdown",
   "id": "aa5dfe77",
   "metadata": {},
   "source": [
    "## Tensor contractions\n",
    "\n",
    "The following code performs the contraction:\n",
    "\n",
    "$$\n",
    "M_{pqrs} = \\sum_{ABCD} S_{pA}T_{qB} U_{rC} V_{sD} I_{ABCD}\n",
    "$$"
   ]
  },
  {
   "cell_type": "code",
   "execution_count": 30,
   "id": "69fca98f",
   "metadata": {},
   "outputs": [],
   "source": [
    "import numpy as np\n",
    "\n",
    "\n",
    "def contract_to_M(I: np.ndarray, S: np.ndarray, T: np.ndarray, U: np.ndarray, V:np.ndarray) -> np.ndarray:\n",
    "    M = np.zeros((S.shape[0], T.shape[0], U.shape[0], V.shape[0]))\n",
    "\n",
    "    for p in range(M.shape[0]):\n",
    "        for q in range(M.shape[1]):\n",
    "            for r in range(M.shape[2]):\n",
    "                for s in range(M.shape[3]):\n",
    "                    for A in range(I.shape[0]):\n",
    "                        for B in range(I.shape[1]):\n",
    "                            for C in range(I.shape[2]):\n",
    "                                for D in range(I.shape[3]):\n",
    "                                    M[p, q, r, s] += S[p, A] * T[q, B] * U[r, C] * V[s, D] * I[A, B, C, D]\n",
    "\n",
    "    return M"
   ]
  },
  {
   "cell_type": "markdown",
   "id": "759f3037",
   "metadata": {},
   "source": [
    "1. What are the _Big-O_ estimates for the number of FLOPS and the amount of memory required?\n",
    "2. How would you check that your estimates are in the right ballpark?\n",
    "3. Rearrange the function such that the _Big-O_ estimate for the number of FLOPS is minimized. How are the _Big-O_ estimates for the memory affected?\n",
    "4. Write tests to make sure the behaviour is consistent between the original and the rearranged versions of the code."
   ]
  },
  {
   "cell_type": "markdown",
   "id": "5aa277a8",
   "metadata": {},
   "source": [
    "## <span style='color:blue'> Answer </span>"
   ]
  },
  {
   "cell_type": "markdown",
   "id": "e5ca34fa",
   "metadata": {},
   "source": [
    "Well let's have a look on this problem using **quimb**. Suppose we have random tensors that one of them **I** has common index with others **S, T, U, and V**."
   ]
  },
  {
   "cell_type": "code",
   "execution_count": null,
   "id": "9bf8b00b",
   "metadata": {},
   "outputs": [
    {
     "data": {
      "image/png": "[encoded data removed]",
      "text/plain": [
       "<Figure size 1000x300 with 1 Axes>"
      ]
     },
     "metadata": {
      "needs_background": "light"
     },
     "output_type": "display_data"
    }
   ],
   "source": [
    "import quimb as qu\n",
    "import quimb.tensor as qtn \n",
    "\n",
    "I = qtn.rand_tensor(shape = [4,4,4,4], inds = ['A', 'B', 'C', 'D'], tags='I')\n",
    "S = qtn.rand_tensor(shape = [3,4], inds = ['p','A'], tags='S')\n",
    "T = qtn.rand_tensor(shape = [3,4], inds = ['q','B'], tags='T')\n",
    "U = qtn.rand_tensor(shape = [3,4], inds = ['r','C'], tags='U')\n",
    "V = qtn.rand_tensor(shape = [3,4], inds = ['s','D'], tags='V')\n",
    "\n",
    "res = S@T@U@V@I\n",
    "res.draw(node_color='maroon',\n",
    "         node_outline_darkness=.1,\n",
    "         figsize=(10,3),\n",
    "         edge_color='black')"
   ]
  },
  {
   "cell_type": "markdown",
   "id": "d2189d81",
   "metadata": {},
   "source": [
    "**1. What are the _Big-O_ estimates for the number of FLOPS and the amount of memory required?**\n",
    "\n",
    "Well, to answer to this question, I would say we have some indexes that will contract with each others and we can call them as an inner indexes (A, B, C, D) and some outer indexes (p, q, r, s) that doesn't have any contractions. \n",
    "\n",
    "In the code that is provided by the host we can see $8$ nested loops which increase the computational cost by $O(N^8)$ where $N$ represents the dimensions of the each matrices.\n",
    "\n",
    "For the memory requirement, I would say that RAM is the place to store inputs and outputs. Then we should calculate how much storage we need for input matrix and how much for the output. Here the point is about largest term among input matrixes that always dominant and take the major part of the memory and no need to consider low dimension tensors in the presence of large tensors. Consider this explanation the largest tensor among input tensors is $I_{ABCD}$ which its respective dimension is  $O(N^4)$ and the output matrix is $M_{pqrs}$ with respective dimension $O(M^4)$. This tells us that the memory usage is $I+M$"
   ]
  },
  {
   "cell_type": "markdown",
   "id": "621fe1a8",
   "metadata": {},
   "source": [
    "**2. How would you check that your estimates are in the right ballpark?**\n",
    "\n",
    "Well mainly the structure of the code tells us how much it is efficient but for check the code we have some tools like *time* library for evaluation the runtime. \n",
    "\n",
    "Also for evaluating the memory usage we can use libraries like *tracemalloc* which is effectively monitor the memory usage. \n",
    "\n",
    "Moreover for the CPU usage in some cases we should use *psutil* library\n"
   ]
  },
  {
   "cell_type": "markdown",
   "id": "fb1ec32a",
   "metadata": {},
   "source": [
    "**3. Rearrange the function such that the _Big-O_ estimate for the number of FLOPS is minimized. How are the _Big-O_ estimates for the memory affected?**\n",
    "\n",
    "For this part I will rearrange the code in two ways. one of them using *np.tensordot* and another one using *np.einsum*. First lets make a class the funstions."
   ]
  },
  {
   "cell_type": "code",
   "execution_count": null,
   "id": "7f592349",
   "metadata": {},
   "outputs": [],
   "source": [
    "import numpy as np\n",
    "\n",
    "class tensor_contract():\n",
    "    def __init__(self, I, S, T, U, V):\n",
    "        self.I = I\n",
    "        self.S = S\n",
    "        self.T = T\n",
    "        self.U = U\n",
    "        self.V = V\n",
    "\n",
    "    def contract_to_M(self):\n",
    "        M = np.zeros((self.S.shape[0], self.T.shape[0], self.U.shape[0], self.V.shape[0]))\n",
    "\n",
    "        for p in range(M.shape[0]):\n",
    "            for q in range(M.shape[1]):\n",
    "                for r in range(M.shape[2]):\n",
    "                    for s in range(M.shape[3]):\n",
    "                        for A in range(self.I.shape[0]):\n",
    "                            for B in range(self.I.shape[1]):\n",
    "                                for C in range(self.I.shape[2]):\n",
    "                                    for D in range(self.I.shape[3]):\n",
    "                                        M[p, q, r, s] += self.S[p, A] * self.T[q, B] * self.U[r, C] * self.V[s, D] * self.I[A, B, C, D]\n",
    "\n",
    "        return M\n",
    "\n",
    "    def contract_to_M_tensordot(self):\n",
    "        M = np.tensordot(self.I, self.V, axes=(3, 1)) \n",
    "        M = np.tensordot(M, self.U, axes=(2, 1)) \n",
    "        M = np.tensordot(M, self.T, axes=(1, 1)) \n",
    "        M = np.tensordot(M, self.S, axes=(0, 1))  \n",
    "        return M\n",
    "\n",
    "    def contract_to_M_einsum(self):\n",
    "        M = np.einsum('ABCD, pA, qB, rC, sD->pqrs', self.I, self.S, self.T, self.U, self.V)\n",
    "        return M"
   ]
  },
  {
   "cell_type": "markdown",
   "id": "38d6f47e",
   "metadata": {},
   "source": [
    "Now we can have a look on the time evaluation for these three methods"
   ]
  },
  {
   "cell_type": "code",
   "execution_count": 58,
   "id": "acf574a4",
   "metadata": {},
   "outputs": [],
   "source": [
    "I = np.random.rand(4, 4, 4, 4)\n",
    "S = np.random.rand(3, 4)\n",
    "T = np.random.rand(3, 4)\n",
    "U = np.random.rand(3, 4)\n",
    "V = np.random.rand(3, 4)\n",
    "\n",
    "contractor = tensor_contract(I, S, T, U, V)"
   ]
  },
  {
   "cell_type": "code",
   "execution_count": 60,
   "id": "85aac17a",
   "metadata": {},
   "outputs": [
    {
     "name": "stdout",
     "output_type": "stream",
     "text": [
      "host_code_runtime: 0.09019947052001953\n",
      "tensordot_runtime: 0.0009753704071044922\n",
      "einsum_runtime: 0.0006814002990722656\n"
     ]
    }
   ],
   "source": [
    "import time\n",
    "\n",
    "start_h = time.time()\n",
    "host = contractor.contract_to_M()\n",
    "end_h = time.time()\n",
    "print(\"host_code_runtime:\", end_h - start_h)\n",
    "start_d = time.time()\n",
    "M_tdot = contractor.contract_to_M_tensordot()\n",
    "end_d = time.time()\n",
    "print(\"tensordot_runtime:\", end_d - start_d)\n",
    "start_e = time.time()\n",
    "M_einsum = contractor.contract_to_M_einsum()\n",
    "end_e = time.time()\n",
    "print(\"einsum_runtime:\", end_e - start_e)"
   ]
  },
  {
   "cell_type": "code",
   "execution_count": 65,
   "id": "e97ca393",
   "metadata": {},
   "outputs": [
    {
     "name": "stdout",
     "output_type": "stream",
     "text": [
      "host_peak_memory_usage: 21460\n",
      "tensordot_peak_memory_usage: 19920\n",
      "einsum_peak_memory_usage: 398160\n"
     ]
    }
   ],
   "source": [
    "import tracemalloc\n",
    "\n",
    "tracemalloc.start()\n",
    "result = contractor.contract_to_M()\n",
    "_, h_peak_memory = tracemalloc.get_traced_memory()\n",
    "tracemalloc.stop() \n",
    "print(\"host_peak_memory_usage:\", h_peak_memory)\n",
    "\n",
    "tracemalloc.start()\n",
    "result = contractor.contract_to_M_tensordot()\n",
    "_, d_peak_memory = tracemalloc.get_traced_memory()\n",
    "tracemalloc.stop() \n",
    "print(\"tensordot_peak_memory_usage:\", d_peak_memory)\n",
    "\n",
    "tracemalloc.start()\n",
    "result = contractor.contract_to_M_einsum()\n",
    "_, e_peak_memory = tracemalloc.get_traced_memory()\n",
    "tracemalloc.stop() \n",
    "print(\"einsum_peak_memory_usage:\", e_peak_memory)"
   ]
  },
  {
   "cell_type": "markdown",
   "id": "2987c03c",
   "metadata": {},
   "source": [
    "**4. Write tests to make sure the behaviour is consistent between the original and the rearranged versions of the code.**\n",
    "\n",
    "To become ensure about the original and rearranged version I would say that we can use *np.allclose* in a function that return us the boolean."
   ]
  },
  {
   "cell_type": "code",
   "execution_count": 79,
   "id": "e68e0228",
   "metadata": {},
   "outputs": [],
   "source": [
    "def test_contract(func_1, func_2):\n",
    "    if np.allclose(func_1, func_2) == True:\n",
    "        return 'successful'\n",
    "    else:\n",
    "        return 'unsuccessful'"
   ]
  },
  {
   "cell_type": "markdown",
   "id": "e947c710",
   "metadata": {},
   "source": [
    "I am considering the host approach as a true answer and I will compare the other codes with that"
   ]
  },
  {
   "cell_type": "code",
   "execution_count": 80,
   "id": "0891574d",
   "metadata": {},
   "outputs": [
    {
     "name": "stdout",
     "output_type": "stream",
     "text": [
      "the test result for the tensordot approach is unsuccessful\n",
      "the test result for the einsum approach is successful\n"
     ]
    }
   ],
   "source": [
    "host = contractor.contract_to_M()\n",
    "M_tdot = contractor.contract_to_M_tensordot()\n",
    "M_einsum = contractor.contract_to_M_einsum()\n",
    "\n",
    "print('the test result for the tensordot approach is', test_contract(host, M_tdot))\n",
    "print('the test result for the einsum approach is', test_contract(host, M_einsum))\n"
   ]
  }
 ],
 "metadata": {
  "file_format": "mystnb",
  "kernelspec": {
   "display_name": "TN_QML",
   "language": "python",
   "name": "python3"
  },
  "language_info": {
   "codemirror_mode": {
    "name": "ipython",
    "version": 3
   },
   "file_extension": ".py",
   "mimetype": "text/x-python",
   "name": "python",
   "nbconvert_exporter": "python",
   "pygments_lexer": "ipython3",
   "version": "3.12.3"
  }
 },
 "nbformat": 4,
 "nbformat_minor": 5
}
